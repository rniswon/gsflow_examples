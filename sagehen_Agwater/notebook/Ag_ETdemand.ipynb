{
 "cells": [
  {
   "cell_type": "markdown",
   "metadata": {},
   "source": [
    "# ET Demand Test problem for Ag Package\n",
    "\n",
    "#### Based on Sagehen example problem, model is run outside of notebook"
   ]
  },
  {
   "cell_type": "code",
   "execution_count": 1,
   "metadata": {},
   "outputs": [],
   "source": [
    "%matplotlib inline\n",
    "import sys, os\n",
    "import matplotlib.pyplot as plt\n",
    "import arcpy\n",
    "import geopandas\n",
    "import matplotlib.image as mpimg\n",
    "import ConfigParser\n",
    "import numpy as np\n",
    "import pandas as pd\n",
    "import datetime\n",
    "from Figures import ReportFigures\n",
    "from matplotlib import cm\n",
    "from arcpy import env\n",
    "from datetime import date\n",
    "from datetime import timedelta\n",
    "from dateutil.parser import parse\n",
    "import matplotlib.dates as mdates\n",
    "from dateutil.relativedelta import relativedelta"
   ]
  },
  {
   "cell_type": "code",
   "execution_count": 2,
   "metadata": {},
   "outputs": [],
   "source": [
    "rf = ReportFigures()\n",
    "rf.set_style()\n",
    "sys.path.append('..')\n",
    "python_exe = sys.executable"
   ]
  },
  {
   "cell_type": "markdown",
   "metadata": {},
   "source": [
    "### Plot high and low monthly Kc vlaues"
   ]
  },
  {
   "cell_type": "code",
   "execution_count": 3,
   "metadata": {},
   "outputs": [],
   "source": [
    "#open irrigation segment file again to read lines\n",
    "fname1 = open(r\"..\\input\\prms\\jh_coef_month_high.in\",\"r\")\n",
    "fname2 = open(r\"..\\input\\prms\\jh_coef_month_low.in\",\"r\")\n",
    "\n",
    "Kc_high, Kc_low = [], []\n",
    "    \n",
    "# Read Kc values\n",
    "lines1=fname1.readlines()\n",
    "lines2=fname2.readlines()\n",
    "\n",
    "# set high Kc values\n",
    "i=-1\n",
    "for line in lines1:\n",
    "    i=i+1\n",
    "    Kc_high.append(line.split()[1])\n",
    "fname1.close()\n",
    "# set low Kc values\n",
    "i=-1\n",
    "for line in lines2:\n",
    "    i=i+1\n",
    "    Kc_low.append(line.split()[1])\n",
    "# close irrigation segment file\n",
    "fname2.close()"
   ]
  },
  {
   "cell_type": "code",
   "execution_count": 4,
   "metadata": {},
   "outputs": [
    {
     "name": "stderr",
     "output_type": "stream",
     "text": [
      "C:\\Users\\rniswon\\AppData\\Local\\Continuum\\miniconda2\\lib\\site-packages\\matplotlib\\font_manager.py:1297: UserWarning: findfont: Font family [u'Univers 57 Condensed'] not found. Falling back to DejaVu Sans\n",
      "  (prop.get_family(), self.defaultFamily[fontext]))\n",
      "C:\\Users\\rniswon\\AppData\\Local\\Continuum\\miniconda2\\lib\\site-packages\\matplotlib\\font_manager.py:1297: UserWarning: findfont: Font family [u'Univers 67 Condensed'] not found. Falling back to DejaVu Sans\n",
      "  (prop.get_family(), self.defaultFamily[fontext]))\n"
     ]
    },
    {
     "data": {
      "image/png": "[encoded data removed]",
      "text/plain": [
       "<matplotlib.figure.Figure at 0x325d0cd0>"
      ]
     },
     "metadata": {
      "needs_background": "light"
     },
     "output_type": "display_data"
    }
   ],
   "source": [
    "# set list of months\n",
    "nummonths = 12\n",
    "date_list = list()\n",
    "for i in range(0, nummonths):\n",
    "    date_list.append(datetime.date(1990, 12, 1)+relativedelta(months=i))\n",
    "\n",
    "# plot Kc values\n",
    "locator = mdates.MonthLocator()  # every month\n",
    "# Specify the format - %b gives us Jan, Feb...\n",
    "fmt = mdates.DateFormatter('%b')\n",
    "fig, ax = plt.subplots(1, 1, figsize=(10, 4))\n",
    "#fig, ax = plt.subplots()\n",
    "x = plt.gca().xaxis\n",
    "x.set_major_locator(locator)\n",
    "# Specify formatter\n",
    "x.set_major_formatter(fmt)\n",
    "# Low Kc\n",
    "ax.plot(date_list,Kc_low,color='b', linewidth=2.5, label='Low Kc')\n",
    "# High Kc\n",
    "ax.plot(date_list,Kc_high,color='r', linewidth=2.5, label='High Kc')\n",
    "ax.set_ylabel('Crop coefficient')\n",
    "ax.set_xlabel('Months')\n",
    "handles, labels = ax.get_legend_handles_labels()\n",
    "rf.legend(ax, handles, labels, bbox_to_anchor=(.8, 0.4))\n",
    "plt.savefig('Hi_Low_Kc.pdf')"
   ]
  },
  {
   "cell_type": "markdown",
   "metadata": {},
   "source": [
    "### Get size of gage files and set start and end dates for plotting"
   ]
  },
  {
   "cell_type": "code",
   "execution_count": 5,
   "metadata": {},
   "outputs": [],
   "source": [
    "# calculate number of lines in file can be any gage file\n",
    "num_lines = 0\n",
    "with open(r\"..\\output_GSFLOW_only\\modflow\\sagehensfr24_HighKc.out\", 'r') as f:\n",
    "    for line in f:\n",
    "        num_lines += 1\n",
    "\n",
    "# set dates for daily values; this date is simulation starte date\n",
    "dates = []\n",
    "for i in range(num_lines-1): \n",
    "    dates.append(datetime.date(1990, 10, 1)+datetime.timedelta(days=i))\n",
    "    \n",
    "# set start and end dates for plot \n",
    "startdate, enddate, plotdates = [], [], []\n",
    "startdate.append(datetime.date(1991, 3, 1))\n",
    "enddate.append(datetime.date(1994, 3, 1))"
   ]
  },
  {
   "cell_type": "markdown",
   "metadata": {},
   "source": [
    "### Read and process the Ag diversion segment gage file for high Kc"
   ]
  },
  {
   "cell_type": "code",
   "execution_count": 6,
   "metadata": {},
   "outputs": [
    {
     "name": "stdout",
     "output_type": "stream",
     "text": [
      "576.730362992\n",
      "18.5132777115\n"
     ]
    }
   ],
   "source": [
    "\n",
    "#open irrigation segment file again to read lines\n",
    "fname1 = open(r\"..\\output_GSFLOW_only\\modflow\\sagehensfr24_HighKc.out\",\"r\")\n",
    "fname2 = open(r\"..\\output_GSFLOW_only\\modflow\\sagehensfr25_HighKc.out\",\"r\")\n",
    "#set firstline for headers\n",
    "firstline=fname1.readline()\n",
    "# store all data from file in lines\n",
    "lines1=fname1.readlines()\n",
    "lines2=fname2.readlines()\n",
    "y1_high_24, y2_high_24, y3_high_24, y4_high_24 = [], [], [], []\n",
    "y1_high_25, y2_high_25, y3_high_25, y4_high_25 = [], [], [], []\n",
    "y1_high_24_cum, y2_high_24_cum = [], []\n",
    "# set variabes for plotting between startdate and enddate\n",
    "i=-1\n",
    "for line in lines1:\n",
    "    i=i+1\n",
    "    if dates[i]>enddate[0]:\n",
    "        break\n",
    "    if dates[i]>=startdate[0]:\n",
    "        plotdates.append(dates[i])   #only once here\n",
    "#        x.append(line.split()[0])\n",
    "        y1_high_24.append(line.split()[4])\n",
    "        y2_high_24.append(line.split()[5])\n",
    "        y3_high_24.append(line.split()[6])\n",
    "#\n",
    "i=-1\n",
    "for line in lines2:\n",
    "    i=i+1\n",
    "    if dates[i]>enddate[0]:\n",
    "        break\n",
    "    if dates[i]>=startdate[0]:\n",
    "#        x.append(line.split()[0])\n",
    "        y1_high_25.append(line.split()[4])\n",
    "        y2_high_25.append(line.split()[5])\n",
    "        y3_high_25.append(line.split()[6])\n",
    "# close irrigation segment file\n",
    "fname1.close()\n",
    "fname2.close()\n",
    "\n",
    "# sum segments\n",
    "x1=np.array(y1_high_24,dtype=float)\n",
    "# convert to hectare-meter\n",
    "x1=x1*0.0001\n",
    "x2=np.array(y1_high_25,dtype=float)\n",
    "x2=x2*0.0001\n",
    "x1=x1+x2\n",
    "y1_high_24=x1\n",
    "y1_high_24_cum=x1.cumsum()\n",
    "\n",
    "x1=np.array(y2_high_24,dtype=float)\n",
    "# convert to hectare-meter\n",
    "x1=x1*0.0001\n",
    "x2=np.array(y2_high_25,dtype=float)\n",
    "x2=x2*0.0001\n",
    "x1=x1+x2\n",
    "y2_high_24=x1\n",
    "\n",
    "x1=np.array(y3_high_24,dtype=float)\n",
    "# convert to hectare-meter\n",
    "x1=x1*0.0001\n",
    "x2=np.array(y3_high_25,dtype=float)\n",
    "x2=x2*0.0001\n",
    "x1=x1+x2\n",
    "y3_high_24=x1\n",
    "\n",
    "# now sum SW+GW\n",
    "x1=np.array(y2_high_24,dtype=float)\n",
    "x2=np.array(y3_high_24,dtype=float)\n",
    "x1=x1+x2\n",
    "y4_high_24=x1\n",
    "y4_high_24_cum=x1.cumsum()\n",
    "\n",
    "#print out average annual NIWR\n",
    "print(y1_high_24_cum[len(y1_high_24_cum)-1]/3)\n",
    "print(y4_high_24_cum[len(y4_high_24_cum)-1]/3)\n",
    "\n"
   ]
  },
  {
   "cell_type": "code",
   "execution_count": 7,
   "metadata": {},
   "outputs": [],
   "source": [
    "header=[]\n",
    "# set headers for plot legend\n",
    "header.append(firstline.split()[0])\n",
    "header.append(firstline.split()[1])\n",
    "header.append(firstline.split()[2])\n",
    "header.append(firstline.split()[3])\n",
    "header.append(firstline.split()[4])\n",
    "header.append(firstline.split()[5])\n",
    "header.append(firstline.split()[6])"
   ]
  },
  {
   "cell_type": "markdown",
   "metadata": {},
   "source": [
    "### Read and process the Ag diversion segment gage file for low Kc value"
   ]
  },
  {
   "cell_type": "code",
   "execution_count": 8,
   "metadata": {},
   "outputs": [
    {
     "name": "stdout",
     "output_type": "stream",
     "text": [
      "576.730362992\n",
      "13.5061273525\n"
     ]
    }
   ],
   "source": [
    "#open irrigation segment file again to read lines\n",
    "fname1 = open(r\"..\\output_GSFLOW_only\\modflow\\sagehensfr24_LowKc.out\",\"r\")\n",
    "fname2 = open(r\"..\\output_GSFLOW_only\\modflow\\sagehensfr25_LowKc.out\",\"r\")\n",
    "#set firstline for headers\n",
    "firstline=fname1.readline()\n",
    "# store all data from file in lines\n",
    "lines1=fname1.readlines()\n",
    "lines2=fname2.readlines()\n",
    "y1_low_24, y2_low_24, y3_low_24, y4_low_24 = [], [], [], []\n",
    "y1_low_25, y2_low_25, y3_low_25, y4_low_25 = [], [], [], []\n",
    "y1_low_24_cum, y4_low_24_cum = [], []\n",
    "# set variabes for plotting between startdate and enddate\n",
    "i=-1\n",
    "for line in lines1:\n",
    "    i=i+1\n",
    "    if dates[i]>enddate[0]:\n",
    "        break\n",
    "    if dates[i]>=startdate[0]:\n",
    " #       plotdates.append(dates[i])\n",
    " #       x.append(line.split()[0])\n",
    "        y1_low_24.append(line.split()[4])\n",
    "        y2_low_24.append(line.split()[5])\n",
    "        y3_low_24.append(line.split()[6])\n",
    " #\n",
    "i=-1\n",
    "for line in lines2:\n",
    "    i=i+1\n",
    "    if dates[i]>enddate[0]:\n",
    "        break\n",
    "    if dates[i]>=startdate[0]:\n",
    " #       plotdates.append(dates[i])\n",
    " #       x.append(line.split()[0])\n",
    "        y1_low_25.append(line.split()[4])\n",
    "        y2_low_25.append(line.split()[5])\n",
    "        y3_low_25.append(line.split()[6])\n",
    "\n",
    "# sum segments\n",
    "x1=np.array(y1_low_24,dtype=float)\n",
    "# convert to hectare-meter\n",
    "x1=x1*0.0001\n",
    "x2=np.array(y1_low_25,dtype=float)\n",
    "x2=x2*0.0001\n",
    "x1=x1+x2\n",
    "y1_low_24=x1\n",
    "y1_low_24_cum=x1.cumsum()\n",
    "\n",
    "# sum segments\n",
    "x1=np.array(y2_low_24,dtype=float)\n",
    "# convert to hectare-meter\n",
    "x1=x1*0.0001\n",
    "x2=np.array(y2_low_25,dtype=float)\n",
    "x2=x2*0.0001\n",
    "x1=x1+x2\n",
    "y2_low_24=x1\n",
    "\n",
    "# sum segments\n",
    "x1=np.array(y3_low_24,dtype=float)\n",
    "# convert to hectare-meter\n",
    "x1=x1*0.0001\n",
    "x2=np.array(y3_low_25,dtype=float)\n",
    "x2=x2*0.0001\n",
    "x1=x1+x2\n",
    "y3_low_24=x1\n",
    "\n",
    "# now sum SW+GW\n",
    "x1=np.array(y2_low_24,dtype=float)\n",
    "x2=np.array(y3_low_24,dtype=float)\n",
    "x1=x1+x2\n",
    "y4_low_24=x1\n",
    "y4_low_24_cum=x1.cumsum()\n",
    "\n",
    "# close irrigation segment files\n",
    "fname1.close()\n",
    "fname2.close()\n",
    "\n",
    "#print out average annual NIWR\n",
    "print(y1_low_24_cum[len(y1_low_24_cum)-1]/3)\n",
    "print(y4_low_24_cum[len(y4_low_24_cum)-1]/3)"
   ]
  },
  {
   "cell_type": "markdown",
   "metadata": {},
   "source": [
    "### Read and process the Ag  segment ET gage file for High Kc value"
   ]
  },
  {
   "cell_type": "code",
   "execution_count": 9,
   "metadata": {},
   "outputs": [
    {
     "name": "stdout",
     "output_type": "stream",
     "text": [
      "27.2192280198\n",
      "27.218250912\n"
     ]
    }
   ],
   "source": [
    "#open SW ET file to read lines\n",
    "fname1 = open(r\"..\\output_GSFLOW_only\\modflow\\sagehensfret24_HighKc.out\",\"r\")\n",
    "fname2 = open(r\"..\\output_GSFLOW_only\\modflow\\sagehensfret25_HighKc.out\",\"r\")\n",
    "#set firstline for headers\n",
    "firstlineet=fname1.readline()\n",
    "# set headers for plot legend\n",
    "header2=[]\n",
    "header2.append(firstlineet.split()[0])\n",
    "header2.append(firstlineet.split()[1])\n",
    "header2.append(firstlineet.split()[2])\n",
    "header2.append(firstlineet.split()[3])\n",
    "header2.append(firstlineet.split()[4])\n",
    "header2.append(firstlineet.split()[5])\n",
    "header2.append(firstlineet.split()[6])\n",
    "# store all data from file in lines\n",
    "lineset1=fname1.readlines()\n",
    "lineset2=fname2.readlines()\n",
    "y1et_high_24, y2et_high_24, y3et_high_24 = [], [], []\n",
    "y1et_high_25, y2et_high_25, y3et_high_25 = [], [], []\n",
    "y1et_high_24_cum, y2et_high_24_cum = [], []\n",
    "# set variabes for plotting between startdate and enddate\n",
    "i=-1\n",
    "for line in lineset1:\n",
    "    i=i+1\n",
    "    if dates[i]>enddate[0]:\n",
    "        break\n",
    "    if dates[i]>=startdate[0]:\n",
    "        #plotdates.append(dates[i])\n",
    "#        xet.append(line.split()[0])\n",
    "        y1et_high_24.append(line.split()[4])\n",
    "        y2et_high_24.append(line.split()[5])\n",
    "#\n",
    "i=-1\n",
    "for line in lineset2:\n",
    "    i=i+1\n",
    "    if dates[i]>enddate[0]:\n",
    "        break\n",
    "    if dates[i]>=startdate[0]:\n",
    "        #plotdates.append(dates[i])\n",
    "#        xet.append(line.split()[0])\n",
    "        y1et_high_25.append(line.split()[4])\n",
    "        y2et_high_25.append(line.split()[5])\n",
    "        \n",
    "# sum segments\n",
    "x1=np.array(y1et_high_24,dtype=float)\n",
    "# convert to hectare-meter\n",
    "x1=x1*0.0001\n",
    "x2=np.array(y1et_high_25,dtype=float)\n",
    "x2=x2*0.0001\n",
    "x1=x1+x2\n",
    "y1et_high_24=x1\n",
    "y1et_high_24_cum=x1.cumsum()\n",
    "\n",
    "x1=np.array(y2et_high_24,dtype=float)\n",
    "# convert to hectare-meter\n",
    "x1=x1*0.0001\n",
    "x2=np.array(y2et_high_25,dtype=float)\n",
    "x2=x2*0.0001\n",
    "x1=x1+x2\n",
    "y2et_high_24=x1\n",
    "y2et_high_24_cum=x1.cumsum()\n",
    "\n",
    "# close SW ET file\n",
    "fname1.close()\n",
    "fname2.close()\n",
    "\n",
    "#print out average annual ET\n",
    "print(y1et_high_24_cum[len(y1et_high_24_cum)-1]/3)\n",
    "print(y2et_high_24_cum[len(y2et_high_24_cum)-1]/3)"
   ]
  },
  {
   "cell_type": "markdown",
   "metadata": {},
   "source": [
    "### Read and process the Ag  segment ET gage file for Low Kc value"
   ]
  },
  {
   "cell_type": "code",
   "execution_count": 10,
   "metadata": {},
   "outputs": [
    {
     "name": "stdout",
     "output_type": "stream",
     "text": [
      "20.741771157\n",
      "20.7410501587\n"
     ]
    }
   ],
   "source": [
    "#open SW ET file to read lines\n",
    "fname1 = open(r\"..\\output_GSFLOW_only\\modflow\\sagehensfret24_LowKc.out\",\"r\")\n",
    "fname2 = open(r\"..\\output_GSFLOW_only\\modflow\\sagehensfret25_LowKc.out\",\"r\")\n",
    "#set firstline for headers\n",
    "firstlineet=fname1.readline()\n",
    "# store all data from file in lines\n",
    "lineset1=fname1.readlines()\n",
    "lineset2=fname2.readlines()\n",
    "y1et_low_24, y2et_low_24, y3et_low_24 = [], [], []\n",
    "y1et_low_25, y2et_low_25, y3et_low_25 = [], [], []\n",
    "y1et_low_24, y2et_low_24 = [], []\n",
    "# set variabes for plotting between startdate and enddate\n",
    "i=-1\n",
    "for line in lineset1:\n",
    "    i=i+1\n",
    "    if dates[i]>enddate[0]:\n",
    "        break\n",
    "    if dates[i]>=startdate[0]:\n",
    "        #plotdates.append(dates[i])\n",
    "#        xet.append(line.split()[0])\n",
    "        y1et_low_24.append(line.split()[4])\n",
    "        y2et_low_24.append(line.split()[5])\n",
    "#\n",
    "i=-1\n",
    "for line in lineset2:\n",
    "    i=i+1\n",
    "    if dates[i]>enddate[0]:\n",
    "        break\n",
    "    if dates[i]>=startdate[0]:\n",
    "        #plotdates.append(dates[i])\n",
    "#        xet.append(line.split()[0])\n",
    "        y1et_low_25.append(line.split()[4])\n",
    "        y2et_low_25.append(line.split()[5])\n",
    "        \n",
    "# sum segments\n",
    "x1=np.array(y1et_low_24,dtype=float)\n",
    "# convert to hectare-meter\n",
    "x1=x1*0.0001\n",
    "x2=np.array(y1et_low_25,dtype=float)\n",
    "x2=x2*0.0001\n",
    "x1=x1+x2\n",
    "y1et_low_24=x1\n",
    "y1et_low_24_cum=x1.cumsum()\n",
    "\n",
    "x1=np.array(y2et_low_24,dtype=float)\n",
    "# convert to hectare-meter\n",
    "x1=x1*0.0001\n",
    "x2=np.array(y2et_low_25,dtype=float)\n",
    "x2=x2*0.0001\n",
    "x1=x1+x2\n",
    "y2et_low_24=x1\n",
    "y2et_low_24_cum=x1.cumsum()\n",
    "\n",
    "# close SW ET file\n",
    "fname1.close()\n",
    "fname2.close()\n",
    "\n",
    "#print out average annual NIWR\n",
    "print(y1et_low_24_cum[len(y2et_low_24_cum)-1]/3)\n",
    "print(y2et_low_24_cum[len(y2et_low_24_cum)-1]/3)"
   ]
  },
  {
   "cell_type": "markdown",
   "metadata": {},
   "source": [
    "### Plot SW plus GW irrigation water for Low and High Kc values"
   ]
  },
  {
   "cell_type": "code",
   "execution_count": 11,
   "metadata": {},
   "outputs": [
    {
     "name": "stderr",
     "output_type": "stream",
     "text": [
      "C:\\Users\\rniswon\\AppData\\Local\\Continuum\\miniconda2\\lib\\site-packages\\matplotlib\\font_manager.py:1297: UserWarning: findfont: Font family [u'cursive'] not found. Falling back to DejaVu Sans\n",
      "  (prop.get_family(), self.defaultFamily[fontext]))\n"
     ]
    },
    {
     "data": {
      "image/png": "[encoded data removed]",
      "text/plain": [
       "<matplotlib.figure.Figure at 0x32696a70>"
      ]
     },
     "metadata": {
      "needs_background": "light"
     },
     "output_type": "display_data"
    }
   ],
   "source": [
    "# blow up the fonts for this demo\n",
    "plt.rcParams['xtick.labelsize'] = 8\n",
    "plt.rcParams['ytick.labelsize'] = 8\n",
    "plt.rcParams['axes.titlesize'] = 14\n",
    "\n",
    "fig, axis = plt.subplots(2, 1, figsize=(10, 10))\n",
    "axis = axis.flat\n",
    "\n",
    "axis[0].plot(plotdates,y4_high_24,color='r', linewidth=2.5, label=\"High Kc\")\n",
    "axis[0].plot(plotdates,y4_low_24,color='b', linewidth=2.5, label=\"Low Kc\")\n",
    "\n",
    "axis[1].plot(plotdates,y2et_high_24,color='r', linewidth=2.5, label=\"High Kc\")\n",
    "axis[1].plot(plotdates,y2et_low_24,color='b', linewidth=2.5, label=\"Low Kc\")\n",
    "\n",
    "\n",
    "\n",
    "axis[0].set_ylabel('Hectare-meters')\n",
    "axis[0].set_xlabel(header[0])\n",
    "\n",
    "\n",
    "plt.ylabel('Hectare-meters')\n",
    "plt.xlabel(header[0])\n",
    "\n",
    "start, end = axis[0].get_xlim()\n",
    "axis[0].xaxis.set_ticks(np.arange(start, end, 90.0))\n",
    "\n",
    "rf.title(axis[0], 'Irrigation water requirements for low and high crop coefficients', subplot_prefix='A')\n",
    "\n",
    "#rf.axis_numbering(axis[1], format_x=True)\n",
    "fmt = mdates.DateFormatter('%Y-%m-%d')\n",
    "rf.title(axis[1], 'Crop consumption for low and high crop coefficients', subplot_prefix='B')\n",
    "\n",
    "# Set legend\n",
    "handles, labels = axis[0].get_legend_handles_labels()\n",
    "rf.legend(axis[0], handles, labels, bbox_to_anchor=(.9, 0.15))\n",
    "\n",
    "# Set legend\n",
    "handles, labels = axis[1].get_legend_handles_labels()\n",
    "rf.legend(axis[1], handles, labels, bbox_to_anchor=(.9, 0.15))\n",
    "\n",
    "plt.tight_layout()\n",
    "plt.savefig('WR_Kccomp.pdf')"
   ]
  },
  {
   "cell_type": "code",
   "execution_count": null,
   "metadata": {},
   "outputs": [],
   "source": []
  }
 ],
 "metadata": {
  "kernelspec": {
   "display_name": "Python 2",
   "language": "python",
   "name": "python2"
  },
  "language_info": {
   "codemirror_mode": {
    "name": "ipython",
    "version": 2
   },
   "file_extension": ".py",
   "mimetype": "text/x-python",
   "name": "python",
   "nbconvert_exporter": "python",
   "pygments_lexer": "ipython2",
   "version": "2.7.15"
  }
 },
 "nbformat": 4,
 "nbformat_minor": 2
}
